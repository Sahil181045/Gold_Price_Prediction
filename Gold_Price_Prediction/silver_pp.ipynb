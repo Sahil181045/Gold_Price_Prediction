{
 "cells": [
  {
   "cell_type": "code",
   "execution_count": 10,
   "metadata": {},
   "outputs": [],
   "source": [
    "import numpy as np\n",
    "import pandas as pd\n",
    "import matplotlib.pyplot as plt\n",
    "import seaborn as sns\n",
    "from sklearn.model_selection import train_test_split\n",
    "from sklearn.ensemble import RandomForestRegressor\n",
    "from sklearn import metrics"
   ]
  },
  {
   "cell_type": "code",
   "execution_count": 11,
   "metadata": {},
   "outputs": [],
   "source": [
    "# loading the csv data to a Pandas DataFrame\n",
    "silver_data = pd.read_csv('new_data.csv')"
   ]
  },
  {
   "cell_type": "code",
   "execution_count": 12,
   "metadata": {},
   "outputs": [
    {
     "data": {
      "text/html": [
       "<div>\n",
       "<style scoped>\n",
       "    .dataframe tbody tr th:only-of-type {\n",
       "        vertical-align: middle;\n",
       "    }\n",
       "\n",
       "    .dataframe tbody tr th {\n",
       "        vertical-align: top;\n",
       "    }\n",
       "\n",
       "    .dataframe thead th {\n",
       "        text-align: right;\n",
       "    }\n",
       "</style>\n",
       "<table border=\"1\" class=\"dataframe\">\n",
       "  <thead>\n",
       "    <tr style=\"text-align: right;\">\n",
       "      <th></th>\n",
       "      <th>Date</th>\n",
       "      <th>SPX</th>\n",
       "      <th>GLD</th>\n",
       "      <th>USO</th>\n",
       "      <th>SLV</th>\n",
       "      <th>EUR/USD</th>\n",
       "    </tr>\n",
       "  </thead>\n",
       "  <tbody>\n",
       "    <tr>\n",
       "      <th>0</th>\n",
       "      <td>01-02-2008</td>\n",
       "      <td>1447.160034</td>\n",
       "      <td>84.860001</td>\n",
       "      <td>78.470001</td>\n",
       "      <td>15.180</td>\n",
       "      <td>1.471692</td>\n",
       "    </tr>\n",
       "    <tr>\n",
       "      <th>1</th>\n",
       "      <td>01-03-2008</td>\n",
       "      <td>1447.160034</td>\n",
       "      <td>85.570000</td>\n",
       "      <td>78.370003</td>\n",
       "      <td>15.285</td>\n",
       "      <td>1.474491</td>\n",
       "    </tr>\n",
       "    <tr>\n",
       "      <th>2</th>\n",
       "      <td>01-04-2008</td>\n",
       "      <td>1411.630005</td>\n",
       "      <td>85.129997</td>\n",
       "      <td>77.309998</td>\n",
       "      <td>15.167</td>\n",
       "      <td>1.475492</td>\n",
       "    </tr>\n",
       "    <tr>\n",
       "      <th>3</th>\n",
       "      <td>01-07-2008</td>\n",
       "      <td>1416.180054</td>\n",
       "      <td>84.769997</td>\n",
       "      <td>75.500000</td>\n",
       "      <td>15.053</td>\n",
       "      <td>1.468299</td>\n",
       "    </tr>\n",
       "    <tr>\n",
       "      <th>4</th>\n",
       "      <td>01-08-2008</td>\n",
       "      <td>1390.189941</td>\n",
       "      <td>86.779999</td>\n",
       "      <td>76.059998</td>\n",
       "      <td>15.590</td>\n",
       "      <td>1.557099</td>\n",
       "    </tr>\n",
       "  </tbody>\n",
       "</table>\n",
       "</div>"
      ],
      "text/plain": [
       "         Date          SPX        GLD        USO     SLV   EUR/USD\n",
       "0  01-02-2008  1447.160034  84.860001  78.470001  15.180  1.471692\n",
       "1  01-03-2008  1447.160034  85.570000  78.370003  15.285  1.474491\n",
       "2  01-04-2008  1411.630005  85.129997  77.309998  15.167  1.475492\n",
       "3  01-07-2008  1416.180054  84.769997  75.500000  15.053  1.468299\n",
       "4  01-08-2008  1390.189941  86.779999  76.059998  15.590  1.557099"
      ]
     },
     "execution_count": 12,
     "metadata": {},
     "output_type": "execute_result"
    }
   ],
   "source": [
    "# print first 5 rows in the dataframe\n",
    "silver_data.head()"
   ]
  },
  {
   "cell_type": "code",
   "execution_count": 13,
   "metadata": {},
   "outputs": [
    {
     "data": {
      "text/html": [
       "<div>\n",
       "<style scoped>\n",
       "    .dataframe tbody tr th:only-of-type {\n",
       "        vertical-align: middle;\n",
       "    }\n",
       "\n",
       "    .dataframe tbody tr th {\n",
       "        vertical-align: top;\n",
       "    }\n",
       "\n",
       "    .dataframe thead th {\n",
       "        text-align: right;\n",
       "    }\n",
       "</style>\n",
       "<table border=\"1\" class=\"dataframe\">\n",
       "  <thead>\n",
       "    <tr style=\"text-align: right;\">\n",
       "      <th></th>\n",
       "      <th>Date</th>\n",
       "      <th>SPX</th>\n",
       "      <th>GLD</th>\n",
       "      <th>USO</th>\n",
       "      <th>SLV</th>\n",
       "      <th>EUR/USD</th>\n",
       "    </tr>\n",
       "  </thead>\n",
       "  <tbody>\n",
       "    <tr>\n",
       "      <th>4225</th>\n",
       "      <td>25-09-2023</td>\n",
       "      <td>1841.285580</td>\n",
       "      <td>129.706183</td>\n",
       "      <td>71.249520</td>\n",
       "      <td>13.198525</td>\n",
       "      <td>1.233159</td>\n",
       "    </tr>\n",
       "    <tr>\n",
       "      <th>4226</th>\n",
       "      <td>26-09-2023</td>\n",
       "      <td>2797.329168</td>\n",
       "      <td>126.729140</td>\n",
       "      <td>46.448135</td>\n",
       "      <td>24.758896</td>\n",
       "      <td>1.075114</td>\n",
       "    </tr>\n",
       "    <tr>\n",
       "      <th>4227</th>\n",
       "      <td>27-09-2023</td>\n",
       "      <td>1691.418297</td>\n",
       "      <td>83.450957</td>\n",
       "      <td>53.909334</td>\n",
       "      <td>44.625172</td>\n",
       "      <td>1.483336</td>\n",
       "    </tr>\n",
       "    <tr>\n",
       "      <th>4228</th>\n",
       "      <td>28-09-2023</td>\n",
       "      <td>2327.914202</td>\n",
       "      <td>126.688778</td>\n",
       "      <td>30.521861</td>\n",
       "      <td>21.799082</td>\n",
       "      <td>1.311898</td>\n",
       "    </tr>\n",
       "    <tr>\n",
       "      <th>4229</th>\n",
       "      <td>29-09-2023</td>\n",
       "      <td>1468.219123</td>\n",
       "      <td>81.586744</td>\n",
       "      <td>77.870222</td>\n",
       "      <td>16.725314</td>\n",
       "      <td>1.332160</td>\n",
       "    </tr>\n",
       "  </tbody>\n",
       "</table>\n",
       "</div>"
      ],
      "text/plain": [
       "            Date          SPX         GLD        USO        SLV   EUR/USD\n",
       "4225  25-09-2023  1841.285580  129.706183  71.249520  13.198525  1.233159\n",
       "4226  26-09-2023  2797.329168  126.729140  46.448135  24.758896  1.075114\n",
       "4227  27-09-2023  1691.418297   83.450957  53.909334  44.625172  1.483336\n",
       "4228  28-09-2023  2327.914202  126.688778  30.521861  21.799082  1.311898\n",
       "4229  29-09-2023  1468.219123   81.586744  77.870222  16.725314  1.332160"
      ]
     },
     "execution_count": 13,
     "metadata": {},
     "output_type": "execute_result"
    }
   ],
   "source": [
    "# print last 5 rows of the dataframe\n",
    "silver_data.tail()"
   ]
  },
  {
   "cell_type": "code",
   "execution_count": 14,
   "metadata": {},
   "outputs": [
    {
     "data": {
      "text/plain": [
       "(4230, 6)"
      ]
     },
     "execution_count": 14,
     "metadata": {},
     "output_type": "execute_result"
    }
   ],
   "source": [
    "# number of rows and columns\n",
    "silver_data.shape"
   ]
  },
  {
   "cell_type": "code",
   "execution_count": 15,
   "metadata": {},
   "outputs": [
    {
     "name": "stdout",
     "output_type": "stream",
     "text": [
      "<class 'pandas.core.frame.DataFrame'>\n",
      "RangeIndex: 4230 entries, 0 to 4229\n",
      "Data columns (total 6 columns):\n",
      " #   Column   Non-Null Count  Dtype  \n",
      "---  ------   --------------  -----  \n",
      " 0   Date     4230 non-null   object \n",
      " 1   SPX      4230 non-null   float64\n",
      " 2   GLD      4230 non-null   float64\n",
      " 3   USO      4230 non-null   float64\n",
      " 4   SLV      4230 non-null   float64\n",
      " 5   EUR/USD  4230 non-null   float64\n",
      "dtypes: float64(5), object(1)\n",
      "memory usage: 198.4+ KB\n"
     ]
    }
   ],
   "source": [
    "# getting some basic informations about the data\n",
    "silver_data.info()"
   ]
  },
  {
   "cell_type": "code",
   "execution_count": 16,
   "metadata": {},
   "outputs": [
    {
     "data": {
      "text/plain": [
       "Date       0\n",
       "SPX        0\n",
       "GLD        0\n",
       "USO        0\n",
       "SLV        0\n",
       "EUR/USD    0\n",
       "dtype: int64"
      ]
     },
     "execution_count": 16,
     "metadata": {},
     "output_type": "execute_result"
    }
   ],
   "source": [
    "# checking the number of missing values\n",
    "silver_data.isnull().sum()"
   ]
  },
  {
   "cell_type": "code",
   "execution_count": 17,
   "metadata": {},
   "outputs": [
    {
     "data": {
      "text/html": [
       "<div>\n",
       "<style scoped>\n",
       "    .dataframe tbody tr th:only-of-type {\n",
       "        vertical-align: middle;\n",
       "    }\n",
       "\n",
       "    .dataframe tbody tr th {\n",
       "        vertical-align: top;\n",
       "    }\n",
       "\n",
       "    .dataframe thead th {\n",
       "        text-align: right;\n",
       "    }\n",
       "</style>\n",
       "<table border=\"1\" class=\"dataframe\">\n",
       "  <thead>\n",
       "    <tr style=\"text-align: right;\">\n",
       "      <th></th>\n",
       "      <th>SPX</th>\n",
       "      <th>GLD</th>\n",
       "      <th>USO</th>\n",
       "      <th>SLV</th>\n",
       "      <th>EUR/USD</th>\n",
       "    </tr>\n",
       "  </thead>\n",
       "  <tbody>\n",
       "    <tr>\n",
       "      <th>count</th>\n",
       "      <td>4230.000000</td>\n",
       "      <td>4230.000000</td>\n",
       "      <td>4230.000000</td>\n",
       "      <td>4230.000000</td>\n",
       "      <td>4230.000000</td>\n",
       "    </tr>\n",
       "    <tr>\n",
       "      <th>mean</th>\n",
       "      <td>1700.837508</td>\n",
       "      <td>114.738583</td>\n",
       "      <td>37.725698</td>\n",
       "      <td>23.408102</td>\n",
       "      <td>1.269414</td>\n",
       "    </tr>\n",
       "    <tr>\n",
       "      <th>std</th>\n",
       "      <td>563.266296</td>\n",
       "      <td>21.506670</td>\n",
       "      <td>20.714108</td>\n",
       "      <td>9.324848</td>\n",
       "      <td>0.139102</td>\n",
       "    </tr>\n",
       "    <tr>\n",
       "      <th>min</th>\n",
       "      <td>676.530029</td>\n",
       "      <td>70.000000</td>\n",
       "      <td>7.960000</td>\n",
       "      <td>8.850000</td>\n",
       "      <td>1.000043</td>\n",
       "    </tr>\n",
       "    <tr>\n",
       "      <th>25%</th>\n",
       "      <td>1238.170437</td>\n",
       "      <td>98.322317</td>\n",
       "      <td>20.782631</td>\n",
       "      <td>15.910000</td>\n",
       "      <td>1.138823</td>\n",
       "    </tr>\n",
       "    <tr>\n",
       "      <th>50%</th>\n",
       "      <td>1669.848745</td>\n",
       "      <td>114.870436</td>\n",
       "      <td>35.590680</td>\n",
       "      <td>19.930009</td>\n",
       "      <td>1.288874</td>\n",
       "    </tr>\n",
       "    <tr>\n",
       "      <th>75%</th>\n",
       "      <td>2121.804447</td>\n",
       "      <td>124.967500</td>\n",
       "      <td>47.840329</td>\n",
       "      <td>30.776877</td>\n",
       "      <td>1.372360</td>\n",
       "    </tr>\n",
       "    <tr>\n",
       "      <th>max</th>\n",
       "      <td>2872.870117</td>\n",
       "      <td>184.589996</td>\n",
       "      <td>117.480003</td>\n",
       "      <td>47.259998</td>\n",
       "      <td>1.598798</td>\n",
       "    </tr>\n",
       "  </tbody>\n",
       "</table>\n",
       "</div>"
      ],
      "text/plain": [
       "               SPX          GLD          USO          SLV      EUR/USD\n",
       "count  4230.000000  4230.000000  4230.000000  4230.000000  4230.000000\n",
       "mean   1700.837508   114.738583    37.725698    23.408102     1.269414\n",
       "std     563.266296    21.506670    20.714108     9.324848     0.139102\n",
       "min     676.530029    70.000000     7.960000     8.850000     1.000043\n",
       "25%    1238.170437    98.322317    20.782631    15.910000     1.138823\n",
       "50%    1669.848745   114.870436    35.590680    19.930009     1.288874\n",
       "75%    2121.804447   124.967500    47.840329    30.776877     1.372360\n",
       "max    2872.870117   184.589996   117.480003    47.259998     1.598798"
      ]
     },
     "execution_count": 17,
     "metadata": {},
     "output_type": "execute_result"
    }
   ],
   "source": [
    "# getting the statistical measures of the data\n",
    "silver_data.describe()"
   ]
  },
  {
   "cell_type": "markdown",
   "metadata": {},
   "source": [
    "Correlation:\n",
    "1. Positive Correlation\n",
    "2. Negative Correlation"
   ]
  },
  {
   "cell_type": "code",
   "execution_count": 18,
   "metadata": {},
   "outputs": [
    {
     "name": "stderr",
     "output_type": "stream",
     "text": [
      "C:\\Users\\91892\\AppData\\Local\\Temp\\ipykernel_10968\\660943657.py:1: FutureWarning: The default value of numeric_only in DataFrame.corr is deprecated. In a future version, it will default to False. Select only valid columns or specify the value of numeric_only to silence this warning.\n",
      "  correlation = silver_data.corr()\n"
     ]
    }
   ],
   "source": [
    "correlation = silver_data.corr()"
   ]
  },
  {
   "cell_type": "code",
   "execution_count": 19,
   "metadata": {},
   "outputs": [
    {
     "data": {
      "text/plain": [
       "<AxesSubplot:>"
      ]
     },
     "execution_count": 19,
     "metadata": {},
     "output_type": "execute_result"
    },
    {
     "data": {
      "image/png": "[encoded data removed]",
      "text/plain": [
       "<Figure size 800x800 with 2 Axes>"
      ]
     },
     "metadata": {},
     "output_type": "display_data"
    }
   ],
   "source": [
    "# constructing a heatmap to understand the correlatiom\n",
    "plt.figure(figsize = (8,8))\n",
    "sns.heatmap(correlation, cbar=True, square=False, fmt='.1f',annot=True, annot_kws={'size':8}, cmap='Pastel1')"
   ]
  },
  {
   "cell_type": "code",
   "execution_count": 20,
   "metadata": {},
   "outputs": [
    {
     "name": "stdout",
     "output_type": "stream",
     "text": [
      "SPX       -0.089362\n",
      "GLD        0.230473\n",
      "USO        0.189571\n",
      "SLV        1.000000\n",
      "EUR/USD    0.089860\n",
      "Name: SLV, dtype: float64\n"
     ]
    }
   ],
   "source": [
    "# correlation values of SLV\n",
    "print(correlation['SLV'])"
   ]
  },
  {
   "cell_type": "code",
   "execution_count": 21,
   "metadata": {},
   "outputs": [
    {
     "name": "stderr",
     "output_type": "stream",
     "text": [
      "C:\\Users\\91892\\AppData\\Local\\Temp\\ipykernel_10968\\4177042700.py:2: UserWarning: \n",
      "\n",
      "`distplot` is a deprecated function and will be removed in seaborn v0.14.0.\n",
      "\n",
      "Please adapt your code to use either `displot` (a figure-level function with\n",
      "similar flexibility) or `histplot` (an axes-level function for histograms).\n",
      "\n",
      "For a guide to updating your code to use the new functions, please see\n",
      "https://gist.github.com/mwaskom/de44147ed2974457ad6372750bbe5751\n",
      "\n",
      "  sns.distplot(silver_data['SLV'],color='blue')\n"
     ]
    },
    {
     "data": {
      "text/plain": [
       "<AxesSubplot:xlabel='SLV', ylabel='Density'>"
      ]
     },
     "execution_count": 21,
     "metadata": {},
     "output_type": "execute_result"
    },
    {
     "data": {
      "image/png": "[encoded data removed]",
      "text/plain": [
       "<Figure size 640x480 with 1 Axes>"
      ]
     },
     "metadata": {},
     "output_type": "display_data"
    }
   ],
   "source": [
    "# checking the distribution of the SLV Price\n",
    "sns.distplot(silver_data['SLV'],color='blue')"
   ]
  },
  {
   "cell_type": "markdown",
   "metadata": {},
   "source": [
    "Splitting the Features and Target"
   ]
  },
  {
   "cell_type": "code",
   "execution_count": 22,
   "metadata": {},
   "outputs": [],
   "source": [
    "X = silver_data.drop(['Date','SLV'],axis=1)\n",
    "Y = silver_data['SLV']"
   ]
  },
  {
   "cell_type": "code",
   "execution_count": 23,
   "metadata": {},
   "outputs": [
    {
     "name": "stdout",
     "output_type": "stream",
     "text": [
      "              SPX         GLD        USO   EUR/USD\n",
      "0     1447.160034   84.860001  78.470001  1.471692\n",
      "1     1447.160034   85.570000  78.370003  1.474491\n",
      "2     1411.630005   85.129997  77.309998  1.475492\n",
      "3     1416.180054   84.769997  75.500000  1.468299\n",
      "4     1390.189941   86.779999  76.059998  1.557099\n",
      "...           ...         ...        ...       ...\n",
      "4225  1841.285580  129.706183  71.249520  1.233159\n",
      "4226  2797.329168  126.729140  46.448135  1.075114\n",
      "4227  1691.418297   83.450957  53.909334  1.483336\n",
      "4228  2327.914202  126.688778  30.521861  1.311898\n",
      "4229  1468.219123   81.586744  77.870222  1.332160\n",
      "\n",
      "[4230 rows x 4 columns]\n"
     ]
    }
   ],
   "source": [
    "print(X)"
   ]
  },
  {
   "cell_type": "code",
   "execution_count": 24,
   "metadata": {},
   "outputs": [
    {
     "name": "stdout",
     "output_type": "stream",
     "text": [
      "0       15.180000\n",
      "1       15.285000\n",
      "2       15.167000\n",
      "3       15.053000\n",
      "4       15.590000\n",
      "          ...    \n",
      "4225    13.198525\n",
      "4226    24.758896\n",
      "4227    44.625172\n",
      "4228    21.799082\n",
      "4229    16.725314\n",
      "Name: SLV, Length: 4230, dtype: float64\n"
     ]
    }
   ],
   "source": [
    "print(Y)"
   ]
  },
  {
   "cell_type": "markdown",
   "metadata": {},
   "source": [
    "Splitting into Training data and Test Data"
   ]
  },
  {
   "cell_type": "code",
   "execution_count": 25,
   "metadata": {},
   "outputs": [],
   "source": [
    "X_train, X_test, Y_train, Y_test = train_test_split(X, Y, test_size = 0.2, random_state=2)"
   ]
  },
  {
   "cell_type": "markdown",
   "metadata": {},
   "source": [
    "Model Training: Random Forest Regressor"
   ]
  },
  {
   "cell_type": "code",
   "execution_count": 26,
   "metadata": {},
   "outputs": [],
   "source": [
    "regressor = RandomForestRegressor(n_estimators=100)"
   ]
  },
  {
   "cell_type": "code",
   "execution_count": 27,
   "metadata": {},
   "outputs": [
    {
     "data": {
      "text/html": [
       "<style>#sk-container-id-1 {color: black;background-color: white;}#sk-container-id-1 pre{padding: 0;}#sk-container-id-1 div.sk-toggleable {background-color: white;}#sk-container-id-1 label.sk-toggleable__label {cursor: pointer;display: block;width: 100%;margin-bottom: 0;padding: 0.3em;box-sizing: border-box;text-align: center;}#sk-container-id-1 label.sk-toggleable__label-arrow:before {content: \"▸\";float: left;margin-right: 0.25em;color: #696969;}#sk-container-id-1 label.sk-toggleable__label-arrow:hover:before {color: black;}#sk-container-id-1 div.sk-estimator:hover label.sk-toggleable__label-arrow:before {color: black;}#sk-container-id-1 div.sk-toggleable__content {max-height: 0;max-width: 0;overflow: hidden;text-align: left;background-color: #f0f8ff;}#sk-container-id-1 div.sk-toggleable__content pre {margin: 0.2em;color: black;border-radius: 0.25em;background-color: #f0f8ff;}#sk-container-id-1 input.sk-toggleable__control:checked~div.sk-toggleable__content {max-height: 200px;max-width: 100%;overflow: auto;}#sk-container-id-1 input.sk-toggleable__control:checked~label.sk-toggleable__label-arrow:before {content: \"▾\";}#sk-container-id-1 div.sk-estimator input.sk-toggleable__control:checked~label.sk-toggleable__label {background-color: #d4ebff;}#sk-container-id-1 div.sk-label input.sk-toggleable__control:checked~label.sk-toggleable__label {background-color: #d4ebff;}#sk-container-id-1 input.sk-hidden--visually {border: 0;clip: rect(1px 1px 1px 1px);clip: rect(1px, 1px, 1px, 1px);height: 1px;margin: -1px;overflow: hidden;padding: 0;position: absolute;width: 1px;}#sk-container-id-1 div.sk-estimator {font-family: monospace;background-color: #f0f8ff;border: 1px dotted black;border-radius: 0.25em;box-sizing: border-box;margin-bottom: 0.5em;}#sk-container-id-1 div.sk-estimator:hover {background-color: #d4ebff;}#sk-container-id-1 div.sk-parallel-item::after {content: \"\";width: 100%;border-bottom: 1px solid gray;flex-grow: 1;}#sk-container-id-1 div.sk-label:hover label.sk-toggleable__label {background-color: #d4ebff;}#sk-container-id-1 div.sk-serial::before {content: \"\";position: absolute;border-left: 1px solid gray;box-sizing: border-box;top: 0;bottom: 0;left: 50%;z-index: 0;}#sk-container-id-1 div.sk-serial {display: flex;flex-direction: column;align-items: center;background-color: white;padding-right: 0.2em;padding-left: 0.2em;position: relative;}#sk-container-id-1 div.sk-item {position: relative;z-index: 1;}#sk-container-id-1 div.sk-parallel {display: flex;align-items: stretch;justify-content: center;background-color: white;position: relative;}#sk-container-id-1 div.sk-item::before, #sk-container-id-1 div.sk-parallel-item::before {content: \"\";position: absolute;border-left: 1px solid gray;box-sizing: border-box;top: 0;bottom: 0;left: 50%;z-index: -1;}#sk-container-id-1 div.sk-parallel-item {display: flex;flex-direction: column;z-index: 1;position: relative;background-color: white;}#sk-container-id-1 div.sk-parallel-item:first-child::after {align-self: flex-end;width: 50%;}#sk-container-id-1 div.sk-parallel-item:last-child::after {align-self: flex-start;width: 50%;}#sk-container-id-1 div.sk-parallel-item:only-child::after {width: 0;}#sk-container-id-1 div.sk-dashed-wrapped {border: 1px dashed gray;margin: 0 0.4em 0.5em 0.4em;box-sizing: border-box;padding-bottom: 0.4em;background-color: white;}#sk-container-id-1 div.sk-label label {font-family: monospace;font-weight: bold;display: inline-block;line-height: 1.2em;}#sk-container-id-1 div.sk-label-container {text-align: center;}#sk-container-id-1 div.sk-container {/* jupyter's `normalize.less` sets `[hidden] { display: none; }` but bootstrap.min.css set `[hidden] { display: none !important; }` so we also need the `!important` here to be able to override the default hidden behavior on the sphinx rendered scikit-learn.org. See: https://github.com/scikit-learn/scikit-learn/issues/21755 */display: inline-block !important;position: relative;}#sk-container-id-1 div.sk-text-repr-fallback {display: none;}</style><div id=\"sk-container-id-1\" class=\"sk-top-container\"><div class=\"sk-text-repr-fallback\"><pre>RandomForestRegressor()</pre><b>In a Jupyter environment, please rerun this cell to show the HTML representation or trust the notebook. <br />On GitHub, the HTML representation is unable to render, please try loading this page with nbviewer.org.</b></div><div class=\"sk-container\" hidden><div class=\"sk-item\"><div class=\"sk-estimator sk-toggleable\"><input class=\"sk-toggleable__control sk-hidden--visually\" id=\"sk-estimator-id-1\" type=\"checkbox\" checked><label for=\"sk-estimator-id-1\" class=\"sk-toggleable__label sk-toggleable__label-arrow\">RandomForestRegressor</label><div class=\"sk-toggleable__content\"><pre>RandomForestRegressor()</pre></div></div></div></div></div>"
      ],
      "text/plain": [
       "RandomForestRegressor()"
      ]
     },
     "execution_count": 27,
     "metadata": {},
     "output_type": "execute_result"
    }
   ],
   "source": [
    "# training the model\n",
    "regressor.fit(X_train,Y_train)"
   ]
  },
  {
   "cell_type": "code",
   "execution_count": 28,
   "metadata": {},
   "outputs": [
    {
     "data": {
      "text/plain": [
       "0.9158587857181835"
      ]
     },
     "execution_count": 28,
     "metadata": {},
     "output_type": "execute_result"
    }
   ],
   "source": [
    "#Checking Accuracy\n",
    "regressor.score(X_train,Y_train)"
   ]
  },
  {
   "cell_type": "markdown",
   "metadata": {},
   "source": [
    "Model Evaluation"
   ]
  },
  {
   "cell_type": "code",
   "execution_count": 29,
   "metadata": {},
   "outputs": [],
   "source": [
    "# prediction on Test Data\n",
    "test_data_prediction = regressor.predict(X_test)"
   ]
  },
  {
   "cell_type": "code",
   "execution_count": 30,
   "metadata": {},
   "outputs": [
    {
     "name": "stdout",
     "output_type": "stream",
     "text": [
      "[33.82269924 31.2752002  36.8925997  27.2681529  13.56284    14.69491738\n",
      " 20.48768234 31.21630039 23.31877694 16.23561298 27.89830689 15.2248\n",
      " 26.36649276 22.02450007 19.65518016 24.35095588 11.05708756 33.59330085\n",
      " 25.78524571 16.33801134 25.26138587 28.40775484 29.24725888 19.60093829\n",
      " 17.90900088 18.92619995 31.67439964 15.5404     28.73014956 21.30334172\n",
      " 18.92139999 31.2690002  31.87759997 30.36120037 19.07610531 27.84032224\n",
      " 25.33586053 28.41356605 22.07139835 16.97749996 16.62469963 13.3898\n",
      " 26.50058466 22.21129228 30.18714376 15.41859586 28.67313069 17.18690009\n",
      " 31.18025705 29.84089989 15.66125015 17.43340031 16.45622979 15.91290004\n",
      " 16.27763703 27.62550012 23.42139669 17.09256896 28.68780385 32.61679667\n",
      " 17.19459995 31.12963114 31.76474691 14.5957     29.37412668 16.08699992\n",
      " 17.95598338 16.24933667 26.45263535 14.46561241 31.92409494 28.10737718\n",
      " 17.75559067 16.67450019 28.81537489 23.24673999 28.27465435 17.08844432\n",
      " 23.4374319  38.02020012 19.38063272 20.0074999  24.89505569 19.15899942\n",
      " 18.44654341 29.31442707 19.33744188 28.2179754  29.17950032 15.98276877\n",
      " 16.05939996 26.57819999 30.62032773 15.73841855 23.91492253 29.23159992\n",
      " 16.59640029 24.5643277  21.89554181 29.21919144 32.01349037 14.74131685\n",
      " 32.6555401  13.92077713 15.99609999 29.24200048 15.53089995 28.21920007\n",
      " 30.72330049 18.09400038 21.07669211 38.96290002 19.35315105 26.46489939\n",
      " 17.32937309 19.13161856 17.02002015 27.07293212 24.34395571 16.16944075\n",
      " 16.3031851  20.4431997  33.88759964 17.2054001  27.65056287 15.74651829\n",
      " 16.28939953 23.12836082 25.28311945 29.97589991 30.92942791 24.58672049\n",
      " 29.48570495 26.95934137 30.04537013 31.48520545 34.22439962 32.87040004\n",
      " 28.56746906 30.82539031 31.44330067 16.64822621 24.0007769  14.51648123\n",
      " 29.43259968 13.223      15.63242816 15.69522783 29.18220023 26.2876269\n",
      " 22.90599971 30.87064738 35.74279902 25.92554417 29.53494877 29.22019971\n",
      " 31.13869984 30.85689104 18.13360127 17.88106999 12.1565596  19.45969929\n",
      " 25.02509958 39.28559984 19.46589985 31.98210173 16.704      24.63000084\n",
      " 20.77688453 25.69118267 28.76265097 24.30580952 15.50705594 30.43700006\n",
      " 20.47580067 24.2940565  28.80768385 16.37537054 27.23144592 16.51310012\n",
      " 17.8061129  20.51410017 12.03278902 32.75118374 19.83031458 17.32859992\n",
      " 14.4183     26.33751112 25.66780389 28.49921653 31.78340025 27.17249898\n",
      " 18.32830551 29.57064186 30.52422419 18.23248969 18.91610028 25.93751906\n",
      " 32.54509995 18.06830031 27.83584496 27.6901001  23.19275611 15.87330007\n",
      " 31.90469959 31.0300001  20.613192   19.35810005 17.4196113  29.1022978\n",
      " 19.87170223 22.60575027 28.62000737 15.5692     27.98810008 15.84432204\n",
      " 22.72023393 18.28635125 12.9263     27.59565486 17.34710025 29.74662761\n",
      " 29.02710385 26.46776659 20.21075956 17.15904044 22.89466741 27.26874365\n",
      " 29.61021643 33.71330037 16.70056082 28.33415399 18.93608254 24.3579912\n",
      " 19.02010002 15.94291272 28.07737039 27.99045127 23.14676118 31.04791376\n",
      " 26.42299956 13.92432427 18.02107517 20.33882028 15.46940005 24.35316813\n",
      " 22.86490055 30.1488843  14.43418901  9.4976     22.59300994 21.06469954\n",
      " 15.49718481 20.08320041 24.75086675 16.43832971 11.47398796 17.61170653\n",
      " 27.10179997 27.67086398 13.202      14.9883     18.13569557 17.06589978\n",
      " 30.31060023 25.13046324 12.37835339 15.61505598 23.12646292 24.52039836\n",
      " 15.84330005 24.63035202 13.78407349 32.13939977 29.76856854 31.18307891\n",
      " 22.82520097 18.89640028 24.61729424 28.15250006 27.09504514 16.33921354\n",
      " 27.71809986 29.96038977 16.25562412 16.5715996  26.32310796 23.10671163\n",
      " 19.64750607 30.22340062 16.70792612 32.04897544 22.83489832 15.1471\n",
      " 20.04726558 16.68230006 23.1798999  15.79139999 17.65225582 16.52872544\n",
      " 30.92187412 23.58921029 29.24098497 14.56857572 28.21556633 28.34324327\n",
      " 16.13459988 27.68289296 30.82183427 21.28210018 35.99789943 29.90399969\n",
      " 24.41598965 18.86069998 32.82620055 16.09580006 29.23879046 25.3404845\n",
      " 30.43702944 23.80577271 43.64880122 30.12581461 44.84640036 22.69444725\n",
      " 19.33779974 16.23705468 27.58381498 26.76629956 26.45159612 24.5759601\n",
      " 17.9219006  32.19817795 26.4328527  15.34060006 38.74009998 12.29349894\n",
      " 27.36426398 21.70351788 20.0342998  22.90860278 21.85020016 25.6479406\n",
      " 27.12329523 26.03643932 13.82631882 30.41288947 15.49569998 24.82850144\n",
      " 21.72486265 20.19746591 16.14361541 15.98750008 27.02442826 19.91994543\n",
      " 17.69543691 28.25298923 17.09100992 31.38307514 15.2157     27.14962205\n",
      " 28.51469417 12.0898     19.82631032 29.40433892 15.6561001  26.72936942\n",
      " 28.10562298 24.27545739 16.81699622 28.80870039 27.81080018 17.35782844\n",
      " 16.04859996 13.9925     20.23777234 13.59649789 28.75689761 35.72649932\n",
      " 27.53164688 21.87315576 30.61555231 31.54649962 18.40410064 28.74497021\n",
      " 23.44300616 17.23492006 26.21626421 22.73446707 26.40070424 28.7018952\n",
      " 30.02696442 27.35510407 31.83489989 29.42616968 19.58700606 29.04555177\n",
      " 29.49829972 16.99380002 32.27073936 28.49242051 15.94515031 19.03289971\n",
      " 34.61819955 16.0861995  16.57425008 18.64899951 16.50910943 18.49290517\n",
      " 23.25683886 16.90681011 18.62570036 27.55499403 12.71966476 20.45238268\n",
      " 26.32960708 18.57283995 25.35518831 31.92478349 31.30999992 26.57727671\n",
      " 27.1610004  28.45240531 14.60680001 24.06683689 18.06840385 22.37147235\n",
      " 18.61736522 19.7290224  19.00747241 27.42999999 15.2337     23.09881613\n",
      " 30.30340019 15.6865     15.90920041 27.58480276 30.60660003 28.31644844\n",
      " 34.45040055 13.53157204 14.18921658 18.86169316 18.34494418 26.66376735\n",
      " 29.38307539 16.33280001 32.23165165 31.94829985 16.70390025 28.19890006\n",
      " 26.24364206 15.95180895 14.06175568 18.08240014 26.90554513 20.03125454\n",
      " 17.05106125 21.50530015 29.57570944 27.05181279 19.37944422 20.77279982\n",
      " 18.36828435 28.33710038 16.48469208 36.42511295 15.04618059 28.6829519\n",
      " 37.09660087 16.21130026 17.33628999 16.51099995 26.88317979 30.44510012\n",
      " 23.12897824 25.92861814 18.78209622 16.95690022 16.59668991 16.59903998\n",
      " 17.3389101  16.18241472 28.91347933 17.32097941 20.59306321 33.12509991\n",
      " 31.18550006 20.55725667 15.54289997 27.67190328 15.64637504 17.65220018\n",
      " 25.54731106 20.55646298 14.8294     18.44975586 14.46517306 16.66397022\n",
      " 25.48817329 36.64419935 15.50226896 13.90495395 32.5069069  25.46820053\n",
      " 16.93504445 26.41472733 27.80358708 14.25062847 15.93470001 17.33885\n",
      " 22.15451003 22.58860139 31.61590011 28.82487861 29.5669043  27.51077527\n",
      " 31.83142699 13.8117     26.12049491 17.64913561 22.63235207 37.79909999\n",
      " 17.8834271  27.71955758 15.0237     14.10302349 24.99878972 27.93670022\n",
      " 23.86931535 28.74015376 17.59155212 20.91806603 26.66238789 22.74759682\n",
      " 31.16397376 15.92450018 29.39610015 26.84410052 16.29870019 28.2427662\n",
      " 27.4920001  32.29860833 24.04935821 29.20373091 25.84265444 24.17602259\n",
      " 31.27124663 24.80161265 32.05134041 17.28990008 15.85858219 16.52799241\n",
      " 29.52975716 22.43736208 25.14361402 14.2256     19.21831808 28.93997516\n",
      " 28.37688182 30.21593336 15.4656001  17.50156543 34.50649974 20.42865668\n",
      " 17.46697024 30.06689977 19.32189994 29.8745243  13.81178795 33.48070042\n",
      " 22.20734358 20.06559943 26.12790613 31.92835343 27.71160012 27.00110648\n",
      " 22.62285084 16.73112355 16.35856732 16.58908512 11.28600002 27.48720007\n",
      " 16.41572787 17.20600215 15.93559258 13.36376727 12.3564     16.18531036\n",
      " 22.97928102 26.81779844 15.54239993 14.13497383 23.05611392 16.63237011\n",
      " 30.2986276  19.52642587 21.04859983 16.91669994 19.23177213 13.4827\n",
      " 16.47939977 28.19371737 27.00108524 22.92539994 28.27859816 15.73398382\n",
      " 16.72140003 29.43816786 13.3465     20.93598239 29.86472946 31.07850786\n",
      " 21.77583605 28.32043659 16.50428227 27.84842917 25.96891691 23.15116546\n",
      " 19.09789959 13.46054    14.8898102  28.06140032 30.58680031 18.7785012\n",
      " 13.80736066 12.25809938 18.26990024 23.77870926 27.86185134 29.0782741\n",
      " 15.32320002 19.29960013 31.32039979 14.32330901 17.75035895 17.10704995\n",
      " 28.04424951 18.8089701  28.89245873 29.87473667 20.99322517 28.76563428\n",
      " 18.27880057 15.74419655 33.17909962 12.5227     13.60525467 15.4026103\n",
      " 16.54624631 18.58445075 15.66080454 23.84436477 18.56015536 31.89679948\n",
      " 15.1947358  26.87759368 26.86457571 16.03440009 14.57987991 16.79650001\n",
      " 17.27055298 16.78220009 17.91540018 11.8209929  19.83863019 29.52655841\n",
      " 16.05840023 16.01709282 29.2108461  22.60744536 16.45776017 17.37412611\n",
      " 22.3509389  27.9060003  19.55941556 16.80559805 15.8105335  15.53304266\n",
      " 19.89029107 21.05211937 27.65176939 27.79323903 23.21498574 24.68673298\n",
      " 22.75137783 17.32000169 32.50810025 23.45704822 25.9607157  16.23425607\n",
      " 24.10879605 16.88133019 26.96076601 15.99682882 25.8027471  16.8657002\n",
      " 32.52850672 14.1166     13.84779803 21.2429997  18.96260018 27.39467425\n",
      " 20.09699993 30.1873969  15.62789998 12.9621     29.90288202 20.01108675\n",
      " 26.14789973 15.52869028 30.40325583 31.27188023 20.48899963 31.44892867\n",
      " 22.74037913 26.20973588 27.04919948 17.08160001 32.5672139  24.21304138\n",
      " 24.38438654 21.95870833 24.81036856 23.48947598  9.4489     29.14050191\n",
      " 13.75486543 20.56533049 28.76699126 20.19919965 25.38131064 20.99537427\n",
      " 25.90888402 17.07954705 19.32539063 18.50534057 18.39540843 24.25959418\n",
      " 22.73506835 16.65511008 26.46379326 26.3699777  17.23702092 30.13636085\n",
      " 23.65593683 16.31499959 25.44572939 29.56157935 20.90309975 27.08939327\n",
      " 22.71822656 19.85792205 32.70100022 25.2243691  16.53837787 30.03132714\n",
      " 24.07455883 27.1462996  13.9814     22.64404908 27.15728643 31.0665276\n",
      " 15.81270003 17.47667243 22.69540296 17.89414612 27.31239542 34.2215995\n",
      " 15.90788333 32.56986542 29.86580108 24.53093103 23.87969496 29.70560037\n",
      " 17.36910019 38.77649971 19.11067255 34.42499696 25.45882327 27.30291371\n",
      " 27.44206084 25.88105979 30.36130062 23.07590015 33.10020003 24.89113533\n",
      " 31.59919975 27.77285527 39.32989956 22.81720472 19.13421791 16.72028668\n",
      " 25.67577642 17.8319958  15.14363623 13.4809     29.56153245 16.62404682\n",
      " 28.48058919 28.00330029 21.3349881  28.26879932 19.23850035 21.39012551\n",
      " 17.90340083 14.50893931 16.13779993 38.10019981 26.4200841  25.9667547\n",
      " 19.03530023  9.73131599 25.64540687 12.17134964 16.29447498 29.21489972\n",
      " 15.81740003 29.77369965 32.98487503 27.83422473 12.77076066 17.27493085\n",
      " 19.62730622 28.6003456  28.99314218 29.74347707 31.57149656 16.38854003\n",
      " 30.97550002 23.84681373 24.3239234  18.13512774 16.38840012 20.92189996\n",
      " 21.25655644 16.23629995 29.74002594 17.60219358 16.14100004 31.1179283\n",
      " 31.84540143 27.16942549 26.28372667 26.46927663 31.27820018 26.20068795]\n"
     ]
    }
   ],
   "source": [
    "print(test_data_prediction)"
   ]
  },
  {
   "cell_type": "code",
   "execution_count": 31,
   "metadata": {},
   "outputs": [
    {
     "name": "stdout",
     "output_type": "stream",
     "text": [
      "R squared error :  0.3955595922465148\n"
     ]
    }
   ],
   "source": [
    "# R squared error\n",
    "error_score = metrics.r2_score(Y_test, test_data_prediction)\n",
    "print(\"R squared error : \", error_score)"
   ]
  },
  {
   "cell_type": "markdown",
   "metadata": {},
   "source": [
    "Compare the Actual Values and Predicted Values in a Plot"
   ]
  },
  {
   "cell_type": "code",
   "execution_count": 32,
   "metadata": {},
   "outputs": [],
   "source": [
    "Y_test = list(Y_test)"
   ]
  },
  {
   "cell_type": "code",
   "execution_count": 33,
   "metadata": {},
   "outputs": [
    {
     "data": {
      "image/png": "[encoded data removed]",
      "text/plain": [
       "<Figure size 640x480 with 1 Axes>"
      ]
     },
     "metadata": {},
     "output_type": "display_data"
    }
   ],
   "source": [
    "plt.plot(Y_test, color='blue', label = 'Actual Value')\n",
    "plt.plot(test_data_prediction, color='yellow', label='Predicted Value')\n",
    "plt.title('Actual Price vs Predicted Price')\n",
    "plt.xlabel('Number of values')\n",
    "plt.ylabel('SLV Price')\n",
    "plt.legend()\n",
    "plt.show()"
   ]
  },
  {
   "cell_type": "markdown",
   "metadata": {},
   "source": [
    "building a predictive system"
   ]
  },
  {
   "cell_type": "code",
   "execution_count": 34,
   "metadata": {},
   "outputs": [
    {
     "name": "stdout",
     "output_type": "stream",
     "text": [
      "[18.03293208]\n",
      "The insurance cost is USD  18.032932077900014\n"
     ]
    },
    {
     "name": "stderr",
     "output_type": "stream",
     "text": [
      "c:\\Users\\91892\\AppData\\Local\\Programs\\Python\\Python310\\lib\\site-packages\\sklearn\\base.py:450: UserWarning: X does not have valid feature names, but RandomForestRegressor was fitted with feature names\n",
      "  warnings.warn(\n"
     ]
    }
   ],
   "source": [
    "input_data = (1416.25,89.54, 74.25, 1.4869)\n",
    "\n",
    "# changing input_data to a numpy array\n",
    "input_data_as_numpy_array = np.asarray(input_data)\n",
    "\n",
    "# reshape the array\n",
    "input_data_reshaped = input_data_as_numpy_array.reshape(1,-1)\n",
    "\n",
    "prediction = regressor.predict(input_data_reshaped)\n",
    "print(prediction)\n",
    "\n",
    "print('The insurance cost is USD ', prediction[0])"
   ]
  },
  {
   "cell_type": "code",
   "execution_count": 35,
   "metadata": {},
   "outputs": [],
   "source": [
    "import pickle"
   ]
  },
  {
   "cell_type": "code",
   "execution_count": 36,
   "metadata": {},
   "outputs": [],
   "source": [
    "pickle.dump(regressor,open(\"silver_predictor.pkl\",\"wb\"))"
   ]
  },
  {
   "cell_type": "code",
   "execution_count": 37,
   "metadata": {},
   "outputs": [],
   "source": [
    "regressor = pickle.load(open('silver_predictor.pkl',\"rb\"))"
   ]
  },
  {
   "cell_type": "code",
   "execution_count": 38,
   "metadata": {},
   "outputs": [
    {
     "name": "stderr",
     "output_type": "stream",
     "text": [
      "c:\\Users\\91892\\AppData\\Local\\Programs\\Python\\Python310\\lib\\site-packages\\sklearn\\base.py:450: UserWarning: X does not have valid feature names, but RandomForestRegressor was fitted with feature names\n",
      "  warnings.warn(\n"
     ]
    }
   ],
   "source": [
    "predict = regressor.predict(input_data_reshaped)[0]"
   ]
  },
  {
   "cell_type": "code",
   "execution_count": 39,
   "metadata": {},
   "outputs": [
    {
     "data": {
      "text/plain": [
       "18.032932077900014"
      ]
     },
     "execution_count": 39,
     "metadata": {},
     "output_type": "execute_result"
    }
   ],
   "source": [
    "predict"
   ]
  }
 ],
 "metadata": {
  "kernelspec": {
   "display_name": "Python 3",
   "language": "python",
   "name": "python3"
  },
  "language_info": {
   "codemirror_mode": {
    "name": "ipython",
    "version": 3
   },
   "file_extension": ".py",
   "mimetype": "text/x-python",
   "name": "python",
   "nbconvert_exporter": "python",
   "pygments_lexer": "ipython3",
   "version": "3.10.1"
  },
  "orig_nbformat": 4
 },
 "nbformat": 4,
 "nbformat_minor": 2
}
